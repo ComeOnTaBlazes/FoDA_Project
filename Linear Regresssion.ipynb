{
 "cells": [
  {
   "cell_type": "markdown",
   "metadata": {},
   "source": [
    "### Fundamentals of Data Analytics - Project Submission\n",
    "\n",
    "Below is the problem as set:\n",
    "\n",
    "In this project you must perform and explain simple linear regression using Python\n",
    "on the powerproduction dataset available on Moodle. The goal is to accurately predict\n",
    "wind turbine power output from wind speed values using the data set as a basis.\n",
    "Your submission must be in the form of a git repository containing, at a minimum, the\n",
    "following items:\n",
    "1. Jupyter notebook that performs simple linear regression on the data set.\n",
    "2. In that notebook, an explanation of your regression and an analysis of its accuracy.\n",
    "3. Standard items in a git repository such as a README.\n",
    "\n",
    "To enhance your submission, you might consider comparing simple linear regression to\n",
    "other types of regression on this data set. Rest assured, all the above concepts will be\n",
    "explored in lecture videos and other materials in the coming semester.\n"
   ]
  },
  {
   "cell_type": "markdown",
   "metadata": {},
   "source": [
    "<b>"
   ]
  },
  {
   "cell_type": "markdown",
   "metadata": {},
   "source": [
    "Below you will find my project submission, fitting a linear regression line to a dataset is straight forward and can be done on any set of data, however the accuracy of the model is the most important factor when assessing whether accurate predictions can be made."
   ]
  },
  {
   "cell_type": "code",
   "execution_count": 1,
   "metadata": {},
   "outputs": [],
   "source": [
    "import pandas as pd\n",
    "import numpy as np\n",
    "import seaborn as sns\n",
    "import matplotlib.pyplot as plt\n",
    "from scipy import stats\n",
    "from sklearn.model_selection import train_test_split\n",
    "from sklearn.linear_model import LinearRegression\n",
    "%matplotlib inline\n",
    "from sklearn.metrics import r2_score\n",
    "from sklearn import metrics\n",
    "from sklearn.metrics import mean_absolute_error"
   ]
  },
  {
   "cell_type": "code",
   "execution_count": 2,
   "metadata": {},
   "outputs": [],
   "source": [
    "#Load  in the data set\n",
    "wind_spd_pwr = pd.read_csv(\"powerproduction.csv\")\n"
   ]
  },
  {
   "cell_type": "code",
   "execution_count": 3,
   "metadata": {
    "scrolled": true
   },
   "outputs": [
    {
     "data": {
      "text/html": [
       "<div>\n",
       "<style scoped>\n",
       "    .dataframe tbody tr th:only-of-type {\n",
       "        vertical-align: middle;\n",
       "    }\n",
       "\n",
       "    .dataframe tbody tr th {\n",
       "        vertical-align: top;\n",
       "    }\n",
       "\n",
       "    .dataframe thead th {\n",
       "        text-align: right;\n",
       "    }\n",
       "</style>\n",
       "<table border=\"1\" class=\"dataframe\">\n",
       "  <thead>\n",
       "    <tr style=\"text-align: right;\">\n",
       "      <th></th>\n",
       "      <th>speed</th>\n",
       "      <th>power</th>\n",
       "    </tr>\n",
       "  </thead>\n",
       "  <tbody>\n",
       "    <tr>\n",
       "      <td>0</td>\n",
       "      <td>0.000</td>\n",
       "      <td>0.0</td>\n",
       "    </tr>\n",
       "    <tr>\n",
       "      <td>1</td>\n",
       "      <td>0.125</td>\n",
       "      <td>0.0</td>\n",
       "    </tr>\n",
       "    <tr>\n",
       "      <td>2</td>\n",
       "      <td>0.150</td>\n",
       "      <td>0.0</td>\n",
       "    </tr>\n",
       "    <tr>\n",
       "      <td>3</td>\n",
       "      <td>0.225</td>\n",
       "      <td>0.0</td>\n",
       "    </tr>\n",
       "    <tr>\n",
       "      <td>4</td>\n",
       "      <td>0.275</td>\n",
       "      <td>0.0</td>\n",
       "    </tr>\n",
       "  </tbody>\n",
       "</table>\n",
       "</div>"
      ],
      "text/plain": [
       "   speed  power\n",
       "0  0.000    0.0\n",
       "1  0.125    0.0\n",
       "2  0.150    0.0\n",
       "3  0.225    0.0\n",
       "4  0.275    0.0"
      ]
     },
     "execution_count": 3,
     "metadata": {},
     "output_type": "execute_result"
    }
   ],
   "source": [
    "#Let's take a quick look at the data included\n",
    "\n",
    "wind_spd_pwr.head(5)"
   ]
  },
  {
   "cell_type": "code",
   "execution_count": 4,
   "metadata": {},
   "outputs": [
    {
     "data": {
      "text/html": [
       "<div>\n",
       "<style scoped>\n",
       "    .dataframe tbody tr th:only-of-type {\n",
       "        vertical-align: middle;\n",
       "    }\n",
       "\n",
       "    .dataframe tbody tr th {\n",
       "        vertical-align: top;\n",
       "    }\n",
       "\n",
       "    .dataframe thead th {\n",
       "        text-align: right;\n",
       "    }\n",
       "</style>\n",
       "<table border=\"1\" class=\"dataframe\">\n",
       "  <thead>\n",
       "    <tr style=\"text-align: right;\">\n",
       "      <th></th>\n",
       "      <th>speed</th>\n",
       "      <th>power</th>\n",
       "    </tr>\n",
       "  </thead>\n",
       "  <tbody>\n",
       "    <tr>\n",
       "      <td>495</td>\n",
       "      <td>24.775</td>\n",
       "      <td>0.0</td>\n",
       "    </tr>\n",
       "    <tr>\n",
       "      <td>496</td>\n",
       "      <td>24.850</td>\n",
       "      <td>0.0</td>\n",
       "    </tr>\n",
       "    <tr>\n",
       "      <td>497</td>\n",
       "      <td>24.875</td>\n",
       "      <td>0.0</td>\n",
       "    </tr>\n",
       "    <tr>\n",
       "      <td>498</td>\n",
       "      <td>24.950</td>\n",
       "      <td>0.0</td>\n",
       "    </tr>\n",
       "    <tr>\n",
       "      <td>499</td>\n",
       "      <td>25.000</td>\n",
       "      <td>0.0</td>\n",
       "    </tr>\n",
       "  </tbody>\n",
       "</table>\n",
       "</div>"
      ],
      "text/plain": [
       "      speed  power\n",
       "495  24.775    0.0\n",
       "496  24.850    0.0\n",
       "497  24.875    0.0\n",
       "498  24.950    0.0\n",
       "499  25.000    0.0"
      ]
     },
     "execution_count": 4,
     "metadata": {},
     "output_type": "execute_result"
    }
   ],
   "source": [
    "wind_spd_pwr.tail(5)"
   ]
  },
  {
   "cell_type": "markdown",
   "metadata": {},
   "source": [
    "So it looks like there are a lot a zero values from looking at the first and last 5 lines, lets take a look at the first 20 lines and see if we can get any better of an idea how the data in the power column are represented."
   ]
  },
  {
   "cell_type": "code",
   "execution_count": 5,
   "metadata": {
    "scrolled": true
   },
   "outputs": [
    {
     "data": {
      "text/html": [
       "<div>\n",
       "<style scoped>\n",
       "    .dataframe tbody tr th:only-of-type {\n",
       "        vertical-align: middle;\n",
       "    }\n",
       "\n",
       "    .dataframe tbody tr th {\n",
       "        vertical-align: top;\n",
       "    }\n",
       "\n",
       "    .dataframe thead th {\n",
       "        text-align: right;\n",
       "    }\n",
       "</style>\n",
       "<table border=\"1\" class=\"dataframe\">\n",
       "  <thead>\n",
       "    <tr style=\"text-align: right;\">\n",
       "      <th></th>\n",
       "      <th>speed</th>\n",
       "      <th>power</th>\n",
       "    </tr>\n",
       "  </thead>\n",
       "  <tbody>\n",
       "    <tr>\n",
       "      <td>0</td>\n",
       "      <td>0.000</td>\n",
       "      <td>0.000</td>\n",
       "    </tr>\n",
       "    <tr>\n",
       "      <td>1</td>\n",
       "      <td>0.125</td>\n",
       "      <td>0.000</td>\n",
       "    </tr>\n",
       "    <tr>\n",
       "      <td>2</td>\n",
       "      <td>0.150</td>\n",
       "      <td>0.000</td>\n",
       "    </tr>\n",
       "    <tr>\n",
       "      <td>3</td>\n",
       "      <td>0.225</td>\n",
       "      <td>0.000</td>\n",
       "    </tr>\n",
       "    <tr>\n",
       "      <td>4</td>\n",
       "      <td>0.275</td>\n",
       "      <td>0.000</td>\n",
       "    </tr>\n",
       "    <tr>\n",
       "      <td>5</td>\n",
       "      <td>0.325</td>\n",
       "      <td>4.331</td>\n",
       "    </tr>\n",
       "    <tr>\n",
       "      <td>6</td>\n",
       "      <td>0.400</td>\n",
       "      <td>5.186</td>\n",
       "    </tr>\n",
       "    <tr>\n",
       "      <td>7</td>\n",
       "      <td>0.450</td>\n",
       "      <td>3.826</td>\n",
       "    </tr>\n",
       "    <tr>\n",
       "      <td>8</td>\n",
       "      <td>0.501</td>\n",
       "      <td>1.048</td>\n",
       "    </tr>\n",
       "    <tr>\n",
       "      <td>9</td>\n",
       "      <td>0.526</td>\n",
       "      <td>5.553</td>\n",
       "    </tr>\n",
       "    <tr>\n",
       "      <td>10</td>\n",
       "      <td>0.551</td>\n",
       "      <td>6.498</td>\n",
       "    </tr>\n",
       "    <tr>\n",
       "      <td>11</td>\n",
       "      <td>0.576</td>\n",
       "      <td>5.241</td>\n",
       "    </tr>\n",
       "    <tr>\n",
       "      <td>12</td>\n",
       "      <td>0.626</td>\n",
       "      <td>4.220</td>\n",
       "    </tr>\n",
       "    <tr>\n",
       "      <td>13</td>\n",
       "      <td>0.676</td>\n",
       "      <td>7.974</td>\n",
       "    </tr>\n",
       "    <tr>\n",
       "      <td>14</td>\n",
       "      <td>0.701</td>\n",
       "      <td>9.746</td>\n",
       "    </tr>\n",
       "    <tr>\n",
       "      <td>15</td>\n",
       "      <td>0.726</td>\n",
       "      <td>0.000</td>\n",
       "    </tr>\n",
       "    <tr>\n",
       "      <td>16</td>\n",
       "      <td>0.751</td>\n",
       "      <td>0.000</td>\n",
       "    </tr>\n",
       "    <tr>\n",
       "      <td>17</td>\n",
       "      <td>0.801</td>\n",
       "      <td>7.271</td>\n",
       "    </tr>\n",
       "    <tr>\n",
       "      <td>18</td>\n",
       "      <td>0.826</td>\n",
       "      <td>0.795</td>\n",
       "    </tr>\n",
       "    <tr>\n",
       "      <td>19</td>\n",
       "      <td>0.851</td>\n",
       "      <td>7.350</td>\n",
       "    </tr>\n",
       "  </tbody>\n",
       "</table>\n",
       "</div>"
      ],
      "text/plain": [
       "    speed  power\n",
       "0   0.000  0.000\n",
       "1   0.125  0.000\n",
       "2   0.150  0.000\n",
       "3   0.225  0.000\n",
       "4   0.275  0.000\n",
       "5   0.325  4.331\n",
       "6   0.400  5.186\n",
       "7   0.450  3.826\n",
       "8   0.501  1.048\n",
       "9   0.526  5.553\n",
       "10  0.551  6.498\n",
       "11  0.576  5.241\n",
       "12  0.626  4.220\n",
       "13  0.676  7.974\n",
       "14  0.701  9.746\n",
       "15  0.726  0.000\n",
       "16  0.751  0.000\n",
       "17  0.801  7.271\n",
       "18  0.826  0.795\n",
       "19  0.851  7.350"
      ]
     },
     "execution_count": 5,
     "metadata": {},
     "output_type": "execute_result"
    }
   ],
   "source": [
    "wind_spd_pwr. head(20)"
   ]
  },
  {
   "cell_type": "markdown",
   "metadata": {},
   "source": [
    "Finally some results, these first an last 5 seem to have a caveat to them, possibly errors in the data collected. \n",
    "\n",
    "A quick insnull().sum() will tell us id there are any NaN or missing values in the dataset."
   ]
  },
  {
   "cell_type": "code",
   "execution_count": 6,
   "metadata": {},
   "outputs": [
    {
     "data": {
      "text/plain": [
       "speed    0\n",
       "power    0\n",
       "dtype: int64"
      ]
     },
     "execution_count": 6,
     "metadata": {},
     "output_type": "execute_result"
    }
   ],
   "source": [
    "wind_spd_pwr.isnull().sum()"
   ]
  },
  {
   "cell_type": "markdown",
   "metadata": {},
   "source": [
    "Looks like a full dataset, albeit with some odd values included in the results, as we saw above. I'm going to graph out the two columns in a scatter plot, the x-axis will reflect the speed column, and the y_axis will be the power column, a quick glance to see what the realtionship between these is."
   ]
  },
  {
   "cell_type": "code",
   "execution_count": 7,
   "metadata": {
    "scrolled": true
   },
   "outputs": [
    {
     "data": {
      "image/png": "[encoded data removed]",
      "text/plain": [
       "<Figure size 432x288 with 1 Axes>"
      ]
     },
     "metadata": {
      "needs_background": "light"
     },
     "output_type": "display_data"
    }
   ],
   "source": [
    "sns.scatterplot(x = wind_spd_pwr['speed'], y =wind_spd_pwr['power'])\n",
    "plt.title(\"Fig.1 - Speed vs Power Generated\");"
   ]
  },
  {
   "cell_type": "markdown",
   "metadata": {},
   "source": [
    "The zero values we saw in the head and tail stand out on this graph completly, for the given speed there is no value given for power, where we would expect there to be much different values. It looks like these are definitely some error in the data, we may have to remove them further down the analysis. There is clearly some for of relationship at play here."
   ]
  },
  {
   "cell_type": "markdown",
   "metadata": {},
   "source": [
    "We can fit a linear least-squares regression line to the plot as per the below:\n",
    "\n",
    "https://docs.scipy.org/doc/scipy/reference/generated/scipy.stats.linregress.html"
   ]
  },
  {
   "cell_type": "code",
   "execution_count": 8,
   "metadata": {},
   "outputs": [
    {
     "data": {
      "text/plain": [
       "LinregressResult(slope=4.917595665404666, intercept=-13.899902630519584, rvalue=0.8537775037188595, pvalue=2.8596889641543505e-143, stderr=0.1343783608511831)"
      ]
     },
     "execution_count": 8,
     "metadata": {},
     "output_type": "execute_result"
    }
   ],
   "source": [
    "stats.linregress(wind_spd_pwr)"
   ]
  },
  {
   "cell_type": "markdown",
   "metadata": {},
   "source": [
    "Can I add each of the results as a variable and create the line on the plot?"
   ]
  },
  {
   "cell_type": "code",
   "execution_count": 9,
   "metadata": {},
   "outputs": [],
   "source": [
    "slope, intercept, rvalue, pvalue, std=  stats.linregress(wind_spd_pwr)"
   ]
  },
  {
   "cell_type": "markdown",
   "metadata": {},
   "source": [
    "Great, this should make graphing this regression line very simple."
   ]
  },
  {
   "cell_type": "code",
   "execution_count": 54,
   "metadata": {},
   "outputs": [],
   "source": [
    "x_axis = wind_spd_pwr['speed']\n",
    "y_axis = wind_spd_pwr['power']"
   ]
  },
  {
   "cell_type": "code",
   "execution_count": 55,
   "metadata": {},
   "outputs": [
    {
     "data": {
      "image/png": "[encoded data removed]",
      "text/plain": [
       "<Figure size 432x288 with 1 Axes>"
      ]
     },
     "metadata": {
      "needs_background": "light"
     },
     "output_type": "display_data"
    }
   ],
   "source": [
    "sns.scatterplot(x = wind_spd_pwr['speed'], y =wind_spd_pwr['power'], label = 'wind_spd_pwr')\n",
    "plt.title(\"Fig.2 - Speed vs Power Generated\")\n",
    "plt.plot(x_axis, (slope*x_axis + intercept), 'r', label = 'FittedLline')\n",
    "plt.legend();"
   ]
  },
  {
   "cell_type": "markdown",
   "metadata": {},
   "source": [
    "The output *rvalue* of stats.linregress() will provide us with the coefficient of correlation, commonly called $r$, which will range from -1 to 1, where 0 means there is no relationship and 1 & -1 mean there is a 100% relationship. At this point it is worth noting that the fitted line is not a great for to the data, if we were to use the line as a guide on the dataset alone, we would find values which would fall outside the shape of the dataset."
   ]
  },
  {
   "cell_type": "code",
   "execution_count": 12,
   "metadata": {},
   "outputs": [
    {
     "data": {
      "text/plain": [
       "0.8537775037188595"
      ]
     },
     "execution_count": 12,
     "metadata": {},
     "output_type": "execute_result"
    }
   ],
   "source": [
    "#Print the rvalue of the dataset\n",
    "rvalue"
   ]
  },
  {
   "cell_type": "markdown",
   "metadata": {},
   "source": [
    "There appears to be a fairly strong raltionship between the two, so we can probably make some preditions, while they may not be very accurate, we will intridcue the code here and then test how accurate the predictions are.\n",
    "\n",
    "In order to make predictions for given inputs, we must first train the predictor on the dataset, once this has been completed we can provide an input to our trained predictor, and based off this training we can predict a result. We will use train_test_split(), from sklearn.model_selection:\n",
    "\n",
    "https://scikit-learn.org/stable/modules/generated/sklearn.model_selection.train_test_split.html \n",
    "\n",
    "sklearn.model_selection.train_test_split(*arrays, test_size=None, train_size=None, random_state=None, shuffle=True, stratify=None)\n",
    "\n",
    "train_test_split will accept a given indexable array, list, matrix or dataframe item(s), from this item will randomly select value pairs according to index in into 2 distinct groups called Train & Test. The train_size argument will denote what ratio (donated by a float between 0.0 and 1.0) train_test_split will assign these value pairs to our Train and Test groups. The ratio used below is 0.2, so for every 100 value pairs in our 'power' and 'speed' columns, 20 will be assigned to Test, and 80 will be assigned to Train.\n",
    "\n",
    "There are 2 sub groups to each Train and Test, in our case  these sub groups are donated by X & y, representative of the values of each x,y point on our scatter plot, we have assigned these as variables as X_train, X_test, y_train, and y_test. X_train and y_train will be used to create a model of the data, and once this has been completed we can pass our X_test values through the model, and predict the corresponding y values using the model we previously trained. We can simply compare the output of this prediction to our existing y_test data and see how accurate the model we have created is.\n",
    "\n",
    "To do this our columns will need to be split into two seperate variables."
   ]
  },
  {
   "cell_type": "code",
   "execution_count": 13,
   "metadata": {},
   "outputs": [],
   "source": [
    "# Split out our dataset into 2 variables, X & y, where X is the input and y is the output of our predictor.\n",
    "X = wind_spd_pwr.iloc[:, :1].values\n",
    "y = wind_spd_pwr.iloc[:, 1:].values"
   ]
  },
  {
   "cell_type": "code",
   "execution_count": 14,
   "metadata": {},
   "outputs": [
    {
     "data": {
      "text/plain": [
       "array([[ 0.   ],\n",
       "       [ 0.125],\n",
       "       [ 0.15 ],\n",
       "       [ 0.225],\n",
       "       [ 0.275],\n",
       "       [ 0.325],\n",
       "       [ 0.4  ],\n",
       "       [ 0.45 ],\n",
       "       [ 0.501],\n",
       "       [ 0.526],\n",
       "       [ 0.551],\n",
       "       [ 0.576],\n",
       "       [ 0.626],\n",
       "       [ 0.676],\n",
       "       [ 0.701],\n",
       "       [ 0.726],\n",
       "       [ 0.751],\n",
       "       [ 0.801],\n",
       "       [ 0.826],\n",
       "       [ 0.851],\n",
       "       [ 0.926],\n",
       "       [ 0.951],\n",
       "       [ 0.976],\n",
       "       [ 1.001],\n",
       "       [ 1.026],\n",
       "       [ 1.051],\n",
       "       [ 1.076],\n",
       "       [ 1.101],\n",
       "       [ 1.151],\n",
       "       [ 1.251],\n",
       "       [ 1.276],\n",
       "       [ 1.301],\n",
       "       [ 1.401],\n",
       "       [ 1.426],\n",
       "       [ 1.502],\n",
       "       [ 1.552],\n",
       "       [ 1.652],\n",
       "       [ 1.677],\n",
       "       [ 1.702],\n",
       "       [ 1.827],\n",
       "       [ 1.877],\n",
       "       [ 1.902],\n",
       "       [ 2.027],\n",
       "       [ 2.077],\n",
       "       [ 2.102],\n",
       "       [ 2.177],\n",
       "       [ 2.227],\n",
       "       [ 2.252],\n",
       "       [ 2.402],\n",
       "       [ 2.477],\n",
       "       [ 2.553],\n",
       "       [ 2.578],\n",
       "       [ 2.703],\n",
       "       [ 2.828],\n",
       "       [ 2.853],\n",
       "       [ 2.953],\n",
       "       [ 3.003],\n",
       "       [ 3.028],\n",
       "       [ 3.053],\n",
       "       [ 3.078],\n",
       "       [ 3.128],\n",
       "       [ 3.203],\n",
       "       [ 3.378],\n",
       "       [ 3.403],\n",
       "       [ 3.428],\n",
       "       [ 3.504],\n",
       "       [ 3.529],\n",
       "       [ 3.579],\n",
       "       [ 3.604],\n",
       "       [ 3.629],\n",
       "       [ 3.679],\n",
       "       [ 3.704],\n",
       "       [ 3.729],\n",
       "       [ 3.779],\n",
       "       [ 3.804],\n",
       "       [ 3.879],\n",
       "       [ 3.904],\n",
       "       [ 3.929],\n",
       "       [ 3.954],\n",
       "       [ 3.979],\n",
       "       [ 4.179],\n",
       "       [ 4.304],\n",
       "       [ 4.329],\n",
       "       [ 4.429],\n",
       "       [ 4.53 ],\n",
       "       [ 4.555],\n",
       "       [ 4.605],\n",
       "       [ 4.73 ],\n",
       "       [ 4.78 ],\n",
       "       [ 4.88 ],\n",
       "       [ 4.905],\n",
       "       [ 4.93 ],\n",
       "       [ 4.955],\n",
       "       [ 4.98 ],\n",
       "       [ 5.03 ],\n",
       "       [ 5.08 ],\n",
       "       [ 5.13 ],\n",
       "       [ 5.18 ],\n",
       "       [ 5.205],\n",
       "       [ 5.255],\n",
       "       [ 5.28 ],\n",
       "       [ 5.305],\n",
       "       [ 5.43 ],\n",
       "       [ 5.455],\n",
       "       [ 5.506],\n",
       "       [ 5.556],\n",
       "       [ 5.631],\n",
       "       [ 5.681],\n",
       "       [ 5.706],\n",
       "       [ 5.731],\n",
       "       [ 5.781],\n",
       "       [ 5.806],\n",
       "       [ 5.831],\n",
       "       [ 5.906],\n",
       "       [ 5.931],\n",
       "       [ 5.956],\n",
       "       [ 5.981],\n",
       "       [ 6.006],\n",
       "       [ 6.031],\n",
       "       [ 6.081],\n",
       "       [ 6.106],\n",
       "       [ 6.131],\n",
       "       [ 6.156],\n",
       "       [ 6.181],\n",
       "       [ 6.231],\n",
       "       [ 6.356],\n",
       "       [ 6.406],\n",
       "       [ 6.456],\n",
       "       [ 6.481],\n",
       "       [ 6.607],\n",
       "       [ 6.682],\n",
       "       [ 6.732],\n",
       "       [ 6.757],\n",
       "       [ 6.782],\n",
       "       [ 6.832],\n",
       "       [ 6.857],\n",
       "       [ 6.957],\n",
       "       [ 6.982],\n",
       "       [ 7.057],\n",
       "       [ 7.082],\n",
       "       [ 7.107],\n",
       "       [ 7.157],\n",
       "       [ 7.182],\n",
       "       [ 7.207],\n",
       "       [ 7.232],\n",
       "       [ 7.257],\n",
       "       [ 7.307],\n",
       "       [ 7.382],\n",
       "       [ 7.407],\n",
       "       [ 7.432],\n",
       "       [ 7.508],\n",
       "       [ 7.558],\n",
       "       [ 7.608],\n",
       "       [ 7.633],\n",
       "       [ 7.683],\n",
       "       [ 7.708],\n",
       "       [ 7.733],\n",
       "       [ 7.808],\n",
       "       [ 7.833],\n",
       "       [ 7.858],\n",
       "       [ 7.883],\n",
       "       [ 7.908],\n",
       "       [ 7.933],\n",
       "       [ 8.033],\n",
       "       [ 8.083],\n",
       "       [ 8.133],\n",
       "       [ 8.183],\n",
       "       [ 8.208],\n",
       "       [ 8.308],\n",
       "       [ 8.408],\n",
       "       [ 8.458],\n",
       "       [ 8.534],\n",
       "       [ 8.634],\n",
       "       [ 8.659],\n",
       "       [ 8.684],\n",
       "       [ 8.759],\n",
       "       [ 8.834],\n",
       "       [ 8.859],\n",
       "       [ 8.884],\n",
       "       [ 8.959],\n",
       "       [ 9.209],\n",
       "       [ 9.259],\n",
       "       [ 9.309],\n",
       "       [ 9.434],\n",
       "       [ 9.535],\n",
       "       [ 9.56 ],\n",
       "       [ 9.61 ],\n",
       "       [ 9.735],\n",
       "       [ 9.81 ],\n",
       "       [ 9.835],\n",
       "       [ 9.86 ],\n",
       "       [ 9.885],\n",
       "       [ 9.935],\n",
       "       [ 9.96 ],\n",
       "       [ 9.985],\n",
       "       [10.035],\n",
       "       [10.085],\n",
       "       [10.11 ],\n",
       "       [10.135],\n",
       "       [10.16 ],\n",
       "       [10.185],\n",
       "       [10.21 ],\n",
       "       [10.235],\n",
       "       [10.26 ],\n",
       "       [10.285],\n",
       "       [10.36 ],\n",
       "       [10.385],\n",
       "       [10.485],\n",
       "       [10.511],\n",
       "       [10.561],\n",
       "       [10.661],\n",
       "       [10.711],\n",
       "       [10.736],\n",
       "       [10.761],\n",
       "       [10.886],\n",
       "       [10.961],\n",
       "       [10.986],\n",
       "       [11.011],\n",
       "       [11.036],\n",
       "       [11.111],\n",
       "       [11.161],\n",
       "       [11.211],\n",
       "       [11.286],\n",
       "       [11.311],\n",
       "       [11.336],\n",
       "       [11.361],\n",
       "       [11.386],\n",
       "       [11.612],\n",
       "       [11.662],\n",
       "       [11.687],\n",
       "       [11.737],\n",
       "       [11.787],\n",
       "       [11.812],\n",
       "       [11.862],\n",
       "       [11.937],\n",
       "       [11.962],\n",
       "       [11.987],\n",
       "       [12.037],\n",
       "       [12.162],\n",
       "       [12.187],\n",
       "       [12.212],\n",
       "       [12.262],\n",
       "       [12.287],\n",
       "       [12.337],\n",
       "       [12.362],\n",
       "       [12.387],\n",
       "       [12.412],\n",
       "       [12.462],\n",
       "       [12.487],\n",
       "       [12.538],\n",
       "       [12.563],\n",
       "       [12.588],\n",
       "       [12.613],\n",
       "       [12.663],\n",
       "       [12.713],\n",
       "       [12.738],\n",
       "       [12.788],\n",
       "       [12.863],\n",
       "       [12.888],\n",
       "       [12.963],\n",
       "       [12.988],\n",
       "       [13.038],\n",
       "       [13.263],\n",
       "       [13.313],\n",
       "       [13.338],\n",
       "       [13.388],\n",
       "       [13.438],\n",
       "       [13.539],\n",
       "       [13.564],\n",
       "       [13.714],\n",
       "       [13.739],\n",
       "       [13.939],\n",
       "       [13.964],\n",
       "       [13.989],\n",
       "       [14.014],\n",
       "       [14.039],\n",
       "       [14.139],\n",
       "       [14.189],\n",
       "       [14.264],\n",
       "       [14.289],\n",
       "       [14.339],\n",
       "       [14.364],\n",
       "       [14.389],\n",
       "       [14.489],\n",
       "       [14.54 ],\n",
       "       [14.59 ],\n",
       "       [14.615],\n",
       "       [14.64 ],\n",
       "       [14.715],\n",
       "       [14.74 ],\n",
       "       [14.765],\n",
       "       [14.84 ],\n",
       "       [14.865],\n",
       "       [15.065],\n",
       "       [15.115],\n",
       "       [15.14 ],\n",
       "       [15.165],\n",
       "       [15.19 ],\n",
       "       [15.215],\n",
       "       [15.24 ],\n",
       "       [15.265],\n",
       "       [15.315],\n",
       "       [15.34 ],\n",
       "       [15.415],\n",
       "       [15.465],\n",
       "       [15.49 ],\n",
       "       [15.541],\n",
       "       [15.591],\n",
       "       [15.666],\n",
       "       [15.716],\n",
       "       [15.741],\n",
       "       [15.766],\n",
       "       [15.816],\n",
       "       [15.916],\n",
       "       [15.991],\n",
       "       [16.041],\n",
       "       [16.066],\n",
       "       [16.091],\n",
       "       [16.191],\n",
       "       [16.241],\n",
       "       [16.291],\n",
       "       [16.366],\n",
       "       [16.441],\n",
       "       [16.466],\n",
       "       [16.567],\n",
       "       [16.592],\n",
       "       [16.617],\n",
       "       [16.667],\n",
       "       [16.692],\n",
       "       [16.717],\n",
       "       [16.792],\n",
       "       [16.842],\n",
       "       [16.917],\n",
       "       [16.942],\n",
       "       [16.967],\n",
       "       [16.992],\n",
       "       [17.017],\n",
       "       [17.067],\n",
       "       [17.117],\n",
       "       [17.142],\n",
       "       [17.167],\n",
       "       [17.267],\n",
       "       [17.317],\n",
       "       [17.342],\n",
       "       [17.367],\n",
       "       [17.417],\n",
       "       [17.442],\n",
       "       [17.467],\n",
       "       [17.492],\n",
       "       [17.518],\n",
       "       [17.543],\n",
       "       [17.568],\n",
       "       [17.593],\n",
       "       [17.618],\n",
       "       [17.643],\n",
       "       [17.793],\n",
       "       [17.818],\n",
       "       [17.843],\n",
       "       [17.893],\n",
       "       [18.043],\n",
       "       [18.068],\n",
       "       [18.093],\n",
       "       [18.218],\n",
       "       [18.268],\n",
       "       [18.318],\n",
       "       [18.368],\n",
       "       [18.393],\n",
       "       [18.418],\n",
       "       [18.519],\n",
       "       [18.544],\n",
       "       [18.594],\n",
       "       [18.619],\n",
       "       [18.694],\n",
       "       [18.744],\n",
       "       [18.769],\n",
       "       [18.794],\n",
       "       [18.844],\n",
       "       [18.869],\n",
       "       [18.919],\n",
       "       [18.944],\n",
       "       [18.994],\n",
       "       [19.044],\n",
       "       [19.069],\n",
       "       [19.094],\n",
       "       [19.169],\n",
       "       [19.194],\n",
       "       [19.269],\n",
       "       [19.444],\n",
       "       [19.545],\n",
       "       [19.57 ],\n",
       "       [19.595],\n",
       "       [19.62 ],\n",
       "       [19.645],\n",
       "       [19.67 ],\n",
       "       [19.695],\n",
       "       [19.72 ],\n",
       "       [19.77 ],\n",
       "       [19.795],\n",
       "       [19.82 ],\n",
       "       [19.845],\n",
       "       [19.895],\n",
       "       [19.945],\n",
       "       [19.97 ],\n",
       "       [20.045],\n",
       "       [20.095],\n",
       "       [20.12 ],\n",
       "       [20.145],\n",
       "       [20.17 ],\n",
       "       [20.22 ],\n",
       "       [20.27 ],\n",
       "       [20.295],\n",
       "       [20.32 ],\n",
       "       [20.345],\n",
       "       [20.47 ],\n",
       "       [20.521],\n",
       "       [20.571],\n",
       "       [20.646],\n",
       "       [20.671],\n",
       "       [20.771],\n",
       "       [20.796],\n",
       "       [20.871],\n",
       "       [21.046],\n",
       "       [21.071],\n",
       "       [21.121],\n",
       "       [21.321],\n",
       "       [21.396],\n",
       "       [21.421],\n",
       "       [21.446],\n",
       "       [21.471],\n",
       "       [21.496],\n",
       "       [21.622],\n",
       "       [21.672],\n",
       "       [21.722],\n",
       "       [21.822],\n",
       "       [21.847],\n",
       "       [21.922],\n",
       "       [22.022],\n",
       "       [22.072],\n",
       "       [22.147],\n",
       "       [22.222],\n",
       "       [22.247],\n",
       "       [22.272],\n",
       "       [22.297],\n",
       "       [22.322],\n",
       "       [22.347],\n",
       "       [22.422],\n",
       "       [22.472],\n",
       "       [22.497],\n",
       "       [22.523],\n",
       "       [22.623],\n",
       "       [22.673],\n",
       "       [22.723],\n",
       "       [22.773],\n",
       "       [22.798],\n",
       "       [22.823],\n",
       "       [22.873],\n",
       "       [22.998],\n",
       "       [23.023],\n",
       "       [23.123],\n",
       "       [23.223],\n",
       "       [23.248],\n",
       "       [23.273],\n",
       "       [23.298],\n",
       "       [23.323],\n",
       "       [23.348],\n",
       "       [23.373],\n",
       "       [23.423],\n",
       "       [23.473],\n",
       "       [23.498],\n",
       "       [23.549],\n",
       "       [23.574],\n",
       "       [23.599],\n",
       "       [23.624],\n",
       "       [23.699],\n",
       "       [23.724],\n",
       "       [23.799],\n",
       "       [23.824],\n",
       "       [23.849],\n",
       "       [23.899],\n",
       "       [23.949],\n",
       "       [23.974],\n",
       "       [24.024],\n",
       "       [24.049],\n",
       "       [24.174],\n",
       "       [24.199],\n",
       "       [24.249],\n",
       "       [24.299],\n",
       "       [24.349],\n",
       "       [24.374],\n",
       "       [24.399],\n",
       "       [24.499],\n",
       "       [24.525],\n",
       "       [24.575],\n",
       "       [24.65 ],\n",
       "       [24.75 ],\n",
       "       [24.775],\n",
       "       [24.85 ],\n",
       "       [24.875],\n",
       "       [24.95 ],\n",
       "       [25.   ]])"
      ]
     },
     "execution_count": 14,
     "metadata": {},
     "output_type": "execute_result"
    }
   ],
   "source": [
    "# Let's view these values and see if we ahve split these out as desired.\n",
    "X"
   ]
  },
  {
   "cell_type": "code",
   "execution_count": 15,
   "metadata": {},
   "outputs": [
    {
     "data": {
      "text/plain": [
       "array([[0.00000e+00],\n",
       "       [0.00000e+00],\n",
       "       [0.00000e+00],\n",
       "       [0.00000e+00],\n",
       "       [0.00000e+00],\n",
       "       [4.33100e+00],\n",
       "       [5.18600e+00],\n",
       "       [3.82600e+00],\n",
       "       [1.04800e+00],\n",
       "       [5.55300e+00],\n",
       "       [6.49800e+00],\n",
       "       [5.24100e+00],\n",
       "       [4.22000e+00],\n",
       "       [7.97400e+00],\n",
       "       [9.74600e+00],\n",
       "       [0.00000e+00],\n",
       "       [0.00000e+00],\n",
       "       [7.27100e+00],\n",
       "       [7.95000e-01],\n",
       "       [7.35000e+00],\n",
       "       [1.99600e+00],\n",
       "       [1.60900e+00],\n",
       "       [2.06400e+00],\n",
       "       [6.51100e+00],\n",
       "       [0.00000e+00],\n",
       "       [2.08500e+00],\n",
       "       [0.00000e+00],\n",
       "       [1.21000e-01],\n",
       "       [1.20800e+00],\n",
       "       [3.37300e+00],\n",
       "       [6.51000e+00],\n",
       "       [0.00000e+00],\n",
       "       [4.15600e+00],\n",
       "       [2.00500e+00],\n",
       "       [5.35200e+00],\n",
       "       [0.00000e+00],\n",
       "       [7.22100e+00],\n",
       "       [0.00000e+00],\n",
       "       [2.43900e+00],\n",
       "       [0.00000e+00],\n",
       "       [2.35900e+00],\n",
       "       [7.04800e+00],\n",
       "       [0.00000e+00],\n",
       "       [0.00000e+00],\n",
       "       [0.00000e+00],\n",
       "       [2.70100e+00],\n",
       "       [2.86900e+00],\n",
       "       [0.00000e+00],\n",
       "       [2.28700e+00],\n",
       "       [6.94700e+00],\n",
       "       [2.37000e+00],\n",
       "       [3.16500e+00],\n",
       "       [6.67000e-01],\n",
       "       [7.55900e+00],\n",
       "       [1.41310e+01],\n",
       "       [2.89400e+00],\n",
       "       [3.57800e+00],\n",
       "       [2.63300e+00],\n",
       "       [2.83600e+00],\n",
       "       [3.06300e+00],\n",
       "       [0.00000e+00],\n",
       "       [1.36000e+00],\n",
       "       [4.33400e+00],\n",
       "       [2.16700e+00],\n",
       "       [6.81900e+00],\n",
       "       [0.00000e+00],\n",
       "       [5.30000e+00],\n",
       "       [0.00000e+00],\n",
       "       [1.53500e+00],\n",
       "       [9.89000e+00],\n",
       "       [0.00000e+00],\n",
       "       [2.27000e+00],\n",
       "       [4.59500e+00],\n",
       "       [0.00000e+00],\n",
       "       [0.00000e+00],\n",
       "       [0.00000e+00],\n",
       "       [4.45300e+00],\n",
       "       [4.41500e+00],\n",
       "       [1.32000e-01],\n",
       "       [2.03000e+00],\n",
       "       [1.03500e+00],\n",
       "       [4.43700e+00],\n",
       "       [1.04300e+00],\n",
       "       [0.00000e+00],\n",
       "       [3.93400e+00],\n",
       "       [6.82400e+00],\n",
       "       [1.35920e+01],\n",
       "       [8.20000e-01],\n",
       "       [1.04440e+01],\n",
       "       [0.00000e+00],\n",
       "       [7.06000e+00],\n",
       "       [9.46000e-01],\n",
       "       [1.90700e+00],\n",
       "       [1.68100e+00],\n",
       "       [9.51900e+00],\n",
       "       [2.97300e+00],\n",
       "       [8.62300e+00],\n",
       "       [4.52500e+00],\n",
       "       [9.32000e-01],\n",
       "       [2.47800e+00],\n",
       "       [1.13000e-01],\n",
       "       [1.16640e+01],\n",
       "       [9.29000e-01],\n",
       "       [4.45400e+00],\n",
       "       [3.20000e+00],\n",
       "       [0.00000e+00],\n",
       "       [6.18400e+00],\n",
       "       [3.03600e+00],\n",
       "       [1.62600e+00],\n",
       "       [5.63100e+00],\n",
       "       [0.00000e+00],\n",
       "       [0.00000e+00],\n",
       "       [4.38000e+00],\n",
       "       [1.82600e+00],\n",
       "       [0.00000e+00],\n",
       "       [4.29200e+00],\n",
       "       [2.76200e+00],\n",
       "       [5.53900e+00],\n",
       "       [3.91200e+00],\n",
       "       [3.96000e+00],\n",
       "       [9.97000e-01],\n",
       "       [1.08640e+01],\n",
       "       [2.23600e+00],\n",
       "       [5.34700e+00],\n",
       "       [6.49100e+00],\n",
       "       [5.84200e+00],\n",
       "       [6.44600e+00],\n",
       "       [3.51000e+00],\n",
       "       [1.02620e+01],\n",
       "       [5.68200e+00],\n",
       "       [1.00440e+01],\n",
       "       [9.07900e+00],\n",
       "       [1.53000e+00],\n",
       "       [0.00000e+00],\n",
       "       [8.61600e+00],\n",
       "       [0.00000e+00],\n",
       "       [0.00000e+00],\n",
       "       [4.18700e+00],\n",
       "       [1.48500e+00],\n",
       "       [9.77900e+00],\n",
       "       [0.00000e+00],\n",
       "       [7.97300e+00],\n",
       "       [6.70000e-02],\n",
       "       [8.23800e+00],\n",
       "       [9.40600e+00],\n",
       "       [5.25200e+00],\n",
       "       [4.24300e+00],\n",
       "       [4.59700e+00],\n",
       "       [3.12200e+00],\n",
       "       [0.00000e+00],\n",
       "       [9.03400e+00],\n",
       "       [6.85300e+00],\n",
       "       [8.47100e+00],\n",
       "       [1.47880e+01],\n",
       "       [7.24500e+00],\n",
       "       [1.02970e+01],\n",
       "       [4.44300e+00],\n",
       "       [1.31420e+01],\n",
       "       [1.13210e+01],\n",
       "       [9.38500e+00],\n",
       "       [5.94700e+00],\n",
       "       [1.45110e+01],\n",
       "       [5.69600e+00],\n",
       "       [6.98300e+00],\n",
       "       [5.38500e+00],\n",
       "       [1.17490e+01],\n",
       "       [7.83000e+00],\n",
       "       [7.78500e+00],\n",
       "       [9.81200e+00],\n",
       "       [6.65600e+00],\n",
       "       [3.00000e+00],\n",
       "       [1.14220e+01],\n",
       "       [1.31130e+01],\n",
       "       [1.64130e+01],\n",
       "       [9.42000e+00],\n",
       "       [8.93700e+00],\n",
       "       [1.07600e+01],\n",
       "       [1.41600e+01],\n",
       "       [1.66970e+01],\n",
       "       [5.55400e+00],\n",
       "       [1.11200e+01],\n",
       "       [1.37740e+01],\n",
       "       [1.28810e+01],\n",
       "       [1.80360e+01],\n",
       "       [1.80420e+01],\n",
       "       [9.91100e+00],\n",
       "       [1.40550e+01],\n",
       "       [1.73930e+01],\n",
       "       [2.41640e+01],\n",
       "       [1.53940e+01],\n",
       "       [1.48450e+01],\n",
       "       [2.71360e+01],\n",
       "       [1.37840e+01],\n",
       "       [1.36570e+01],\n",
       "       [1.93540e+01],\n",
       "       [1.61390e+01],\n",
       "       [2.07090e+01],\n",
       "       [2.64270e+01],\n",
       "       [1.26240e+01],\n",
       "       [1.64740e+01],\n",
       "       [2.23050e+01],\n",
       "       [2.07040e+01],\n",
       "       [3.03410e+01],\n",
       "       [2.42930e+01],\n",
       "       [2.06360e+01],\n",
       "       [2.81810e+01],\n",
       "       [2.22160e+01],\n",
       "       [1.35200e+01],\n",
       "       [0.00000e+00],\n",
       "       [2.27580e+01],\n",
       "       [2.69270e+01],\n",
       "       [2.49420e+01],\n",
       "       [1.56380e+01],\n",
       "       [2.36880e+01],\n",
       "       [3.04830e+01],\n",
       "       [3.11530e+01],\n",
       "       [2.76880e+01],\n",
       "       [2.84520e+01],\n",
       "       [2.82210e+01],\n",
       "       [3.13360e+01],\n",
       "       [2.96010e+01],\n",
       "       [3.15300e+01],\n",
       "       [3.46930e+01],\n",
       "       [4.02240e+01],\n",
       "       [3.35890e+01],\n",
       "       [3.81840e+01],\n",
       "       [3.86360e+01],\n",
       "       [3.12140e+01],\n",
       "       [4.14860e+01],\n",
       "       [4.24850e+01],\n",
       "       [3.85520e+01],\n",
       "       [3.67870e+01],\n",
       "       [3.18400e+01],\n",
       "       [4.16920e+01],\n",
       "       [5.16810e+01],\n",
       "       [3.72940e+01],\n",
       "       [4.72680e+01],\n",
       "       [3.95840e+01],\n",
       "       [4.15990e+01],\n",
       "       [4.50560e+01],\n",
       "       [4.31980e+01],\n",
       "       [4.61360e+01],\n",
       "       [4.34540e+01],\n",
       "       [4.72820e+01],\n",
       "       [4.05190e+01],\n",
       "       [3.71590e+01],\n",
       "       [5.29520e+01],\n",
       "       [4.47450e+01],\n",
       "       [4.47350e+01],\n",
       "       [4.48010e+01],\n",
       "       [4.23360e+01],\n",
       "       [5.40790e+01],\n",
       "       [5.14710e+01],\n",
       "       [4.48800e+01],\n",
       "       [5.11490e+01],\n",
       "       [4.73440e+01],\n",
       "       [5.06580e+01],\n",
       "       [4.77870e+01],\n",
       "       [5.39540e+01],\n",
       "       [5.32810e+01],\n",
       "       [4.97960e+01],\n",
       "       [5.81680e+01],\n",
       "       [6.28300e+01],\n",
       "       [5.97350e+01],\n",
       "       [6.45410e+01],\n",
       "       [6.23150e+01],\n",
       "       [6.56050e+01],\n",
       "       [6.58890e+01],\n",
       "       [6.33830e+01],\n",
       "       [6.11270e+01],\n",
       "       [6.32650e+01],\n",
       "       [6.39100e+01],\n",
       "       [6.82320e+01],\n",
       "       [6.55960e+01],\n",
       "       [6.92400e+01],\n",
       "       [6.65500e+01],\n",
       "       [6.65960e+01],\n",
       "       [6.72630e+01],\n",
       "       [6.75120e+01],\n",
       "       [6.86160e+01],\n",
       "       [6.56420e+01],\n",
       "       [7.65510e+01],\n",
       "       [6.42210e+01],\n",
       "       [7.17630e+01],\n",
       "       [7.36520e+01],\n",
       "       [6.72690e+01],\n",
       "       [7.20160e+01],\n",
       "       [7.95860e+01],\n",
       "       [7.84990e+01],\n",
       "       [6.96990e+01],\n",
       "       [8.21470e+01],\n",
       "       [7.54660e+01],\n",
       "       [7.21350e+01],\n",
       "       [7.39110e+01],\n",
       "       [7.82840e+01],\n",
       "       [7.77250e+01],\n",
       "       [6.92480e+01],\n",
       "       [7.71640e+01],\n",
       "       [8.01830e+01],\n",
       "       [7.17870e+01],\n",
       "       [8.03900e+01],\n",
       "       [8.72300e+01],\n",
       "       [7.89870e+01],\n",
       "       [8.32510e+01],\n",
       "       [8.04180e+01],\n",
       "       [7.85280e+01],\n",
       "       [8.58910e+01],\n",
       "       [8.12390e+01],\n",
       "       [8.62880e+01],\n",
       "       [8.72850e+01],\n",
       "       [7.97200e+01],\n",
       "       [8.41330e+01],\n",
       "       [8.77410e+01],\n",
       "       [7.89910e+01],\n",
       "       [7.89940e+01],\n",
       "       [7.86320e+01],\n",
       "       [8.66110e+01],\n",
       "       [9.04120e+01],\n",
       "       [8.51730e+01],\n",
       "       [8.71920e+01],\n",
       "       [8.59990e+01],\n",
       "       [8.80420e+01],\n",
       "       [8.91340e+01],\n",
       "       [9.65920e+01],\n",
       "       [8.76630e+01],\n",
       "       [9.29970e+01],\n",
       "       [9.72740e+01],\n",
       "       [9.27530e+01],\n",
       "       [8.95270e+01],\n",
       "       [9.36980e+01],\n",
       "       [9.01710e+01],\n",
       "       [9.75320e+01],\n",
       "       [9.07610e+01],\n",
       "       [9.49250e+01],\n",
       "       [9.55930e+01],\n",
       "       [9.18080e+01],\n",
       "       [9.14910e+01],\n",
       "       [9.40930e+01],\n",
       "       [9.12700e+01],\n",
       "       [9.56220e+01],\n",
       "       [0.00000e+00],\n",
       "       [1.00831e+02],\n",
       "       [9.69700e+01],\n",
       "       [8.96130e+01],\n",
       "       [9.12060e+01],\n",
       "       [9.53960e+01],\n",
       "       [8.55330e+01],\n",
       "       [1.00889e+02],\n",
       "       [9.11250e+01],\n",
       "       [8.77310e+01],\n",
       "       [9.04350e+01],\n",
       "       [8.95690e+01],\n",
       "       [9.01420e+01],\n",
       "       [9.33800e+01],\n",
       "       [1.02322e+02],\n",
       "       [1.00429e+02],\n",
       "       [9.31050e+01],\n",
       "       [9.12700e+01],\n",
       "       [9.05460e+01],\n",
       "       [9.14900e+01],\n",
       "       [9.74270e+01],\n",
       "       [8.97890e+01],\n",
       "       [8.79800e+01],\n",
       "       [9.07510e+01],\n",
       "       [9.90900e+01],\n",
       "       [9.85400e+01],\n",
       "       [9.88550e+01],\n",
       "       [9.92140e+01],\n",
       "       [9.37690e+01],\n",
       "       [1.04161e+02],\n",
       "       [1.00485e+02],\n",
       "       [9.92420e+01],\n",
       "       [9.60580e+01],\n",
       "       [9.66420e+01],\n",
       "       [1.02440e+02],\n",
       "       [9.60540e+01],\n",
       "       [9.26550e+01],\n",
       "       [8.79860e+01],\n",
       "       [8.90470e+01],\n",
       "       [9.80780e+01],\n",
       "       [1.00142e+02],\n",
       "       [1.02364e+02],\n",
       "       [1.00287e+02],\n",
       "       [9.71480e+01],\n",
       "       [1.03387e+02],\n",
       "       [1.00428e+02],\n",
       "       [9.67250e+01],\n",
       "       [1.00372e+02],\n",
       "       [9.82720e+01],\n",
       "       [9.48500e+01],\n",
       "       [9.22030e+01],\n",
       "       [9.15010e+01],\n",
       "       [9.24610e+01],\n",
       "       [9.65440e+01],\n",
       "       [9.71730e+01],\n",
       "       [1.03629e+02],\n",
       "       [9.26100e+01],\n",
       "       [9.47800e+01],\n",
       "       [9.40710e+01],\n",
       "       [1.04188e+02],\n",
       "       [9.44890e+01],\n",
       "       [9.94720e+01],\n",
       "       [9.87900e+01],\n",
       "       [9.96970e+01],\n",
       "       [0.00000e+00],\n",
       "       [8.90780e+01],\n",
       "       [9.90290e+01],\n",
       "       [9.69630e+01],\n",
       "       [1.01507e+02],\n",
       "       [9.50120e+01],\n",
       "       [1.07584e+02],\n",
       "       [1.00699e+02],\n",
       "       [1.04258e+02],\n",
       "       [1.01270e+02],\n",
       "       [9.49800e+01],\n",
       "       [1.03405e+02],\n",
       "       [1.12362e+02],\n",
       "       [9.95370e+01],\n",
       "       [9.63410e+01],\n",
       "       [9.42160e+01],\n",
       "       [1.08485e+02],\n",
       "       [9.91030e+01],\n",
       "       [9.63480e+01],\n",
       "       [1.01212e+02],\n",
       "       [9.86820e+01],\n",
       "       [8.85440e+01],\n",
       "       [1.01721e+02],\n",
       "       [1.00937e+02],\n",
       "       [9.76710e+01],\n",
       "       [8.97130e+01],\n",
       "       [1.03433e+02],\n",
       "       [1.06208e+02],\n",
       "       [9.77970e+01],\n",
       "       [1.03268e+02],\n",
       "       [1.03922e+02],\n",
       "       [1.04052e+02],\n",
       "       [1.04516e+02],\n",
       "       [9.94600e+01],\n",
       "       [1.02281e+02],\n",
       "       [9.66500e+01],\n",
       "       [9.39310e+01],\n",
       "       [9.35670e+01],\n",
       "       [1.01190e+02],\n",
       "       [1.00206e+02],\n",
       "       [9.78030e+01],\n",
       "       [9.93570e+01],\n",
       "       [1.03306e+02],\n",
       "       [1.09932e+02],\n",
       "       [9.72560e+01],\n",
       "       [1.00558e+02],\n",
       "       [1.00698e+02],\n",
       "       [9.39640e+01],\n",
       "       [1.02544e+02],\n",
       "       [9.80670e+01],\n",
       "       [1.01342e+02],\n",
       "       [1.00549e+02],\n",
       "       [0.00000e+00],\n",
       "       [1.01308e+02],\n",
       "       [1.01654e+02],\n",
       "       [1.02462e+02],\n",
       "       [1.04655e+02],\n",
       "       [1.13556e+02],\n",
       "       [9.63370e+01],\n",
       "       [9.82790e+01],\n",
       "       [1.08167e+02],\n",
       "       [1.04977e+02],\n",
       "       [9.75230e+01],\n",
       "       [9.48670e+01],\n",
       "       [9.35270e+01],\n",
       "       [9.80660e+01],\n",
       "       [1.01120e+02],\n",
       "       [1.00311e+02],\n",
       "       [1.02644e+02],\n",
       "       [9.18800e+01],\n",
       "       [9.69860e+01],\n",
       "       [9.46710e+01],\n",
       "       [9.73340e+01],\n",
       "       [1.00322e+02],\n",
       "       [1.00089e+02],\n",
       "       [9.53640e+01],\n",
       "       [9.42700e+01],\n",
       "       [1.05992e+02],\n",
       "       [9.35240e+01],\n",
       "       [9.58690e+01],\n",
       "       [1.01419e+02],\n",
       "       [1.03700e+02],\n",
       "       [9.36940e+01],\n",
       "       [9.30780e+01],\n",
       "       [9.82230e+01],\n",
       "       [9.51170e+01],\n",
       "       [0.00000e+00],\n",
       "       [0.00000e+00],\n",
       "       [0.00000e+00],\n",
       "       [0.00000e+00],\n",
       "       [0.00000e+00],\n",
       "       [0.00000e+00],\n",
       "       [0.00000e+00],\n",
       "       [0.00000e+00],\n",
       "       [0.00000e+00],\n",
       "       [0.00000e+00]])"
      ]
     },
     "execution_count": 15,
     "metadata": {},
     "output_type": "execute_result"
    }
   ],
   "source": [
    "y"
   ]
  },
  {
   "cell_type": "markdown",
   "metadata": {},
   "source": [
    "We now split the data into data which will train the model and then the remaing sets of data will be used to test our acuracy."
   ]
  },
  {
   "cell_type": "code",
   "execution_count": 16,
   "metadata": {},
   "outputs": [],
   "source": [
    "X_train, X_test, y_train, y_test = train_test_split(X, y, test_size=0.2, random_state=0)"
   ]
  },
  {
   "cell_type": "markdown",
   "metadata": {},
   "source": []
  },
  {
   "cell_type": "code",
   "execution_count": 17,
   "metadata": {},
   "outputs": [
    {
     "data": {
      "text/plain": [
       "LinearRegression(copy_X=True, fit_intercept=True, n_jobs=None, normalize=False)"
      ]
     },
     "execution_count": 17,
     "metadata": {},
     "output_type": "execute_result"
    }
   ],
   "source": [
    "lin_reg = LinearRegression()\n",
    "lin_reg.fit(X_train, y_train)"
   ]
  },
  {
   "cell_type": "code",
   "execution_count": 56,
   "metadata": {},
   "outputs": [],
   "source": [
    "y_pred = lin_reg.predict(X_test)"
   ]
  },
  {
   "cell_type": "markdown",
   "metadata": {},
   "source": [
    "From looking at our predictor output we can see there are some very odd results, going into negatives, which would be ground-breaking from a physics standpoint I'm sure. So it looks lime our model is not extremely accurate, but can we put a figure to that level of accuracy? One way is to get a value called the $r^2$ value, which provides an output between 0 and 1, with 1 being a perfect fit.\n",
    "\n",
    "r2_score below loaded from sklearn.metrics:\n",
    "https://scikit-learn.org/stable/modules/generated/sklearn.metrics.r2_score.html"
   ]
  },
  {
   "cell_type": "code",
   "execution_count": 19,
   "metadata": {
    "scrolled": true
   },
   "outputs": [
    {
     "data": {
      "text/plain": [
       "0.7066904808136409"
      ]
     },
     "execution_count": 19,
     "metadata": {},
     "output_type": "execute_result"
    }
   ],
   "source": [
    "r2_score(y_test, y_pred)"
   ]
  },
  {
   "cell_type": "markdown",
   "metadata": {},
   "source": [
    "### Model Evaluation Metrics for Regression\n",
    "\n",
    "Another metric we can use to analyse what kind of fit our regression line to the model we have created.\n",
    "\n",
    "https://www.ritchieng.com/machine-learning-evaluate-linear-regression-model/\n",
    "\n",
    "Root Mean Squared Error (RMSE) is the square root of the mean of the squared errors:\n",
    "\n",
    "$\\sqrt{\\frac{1}{n}\\sum_{i=1}^n(y_{i}−\\hat{y}_{i})^2}$\n",
    "\n",
    "The RMSE essentially is the score for how the model's predicted values of will fit to the observed data points. There is no good or bad value for this metric, it is relative to the size of the values in the observed results, a RMSE of 0 will mean the predictor receive a perfect fit on the pbserved results."
   ]
  },
  {
   "cell_type": "code",
   "execution_count": 21,
   "metadata": {},
   "outputs": [
    {
     "data": {
      "text/plain": [
       "22.279880981788637"
      ]
     },
     "execution_count": 21,
     "metadata": {},
     "output_type": "execute_result"
    }
   ],
   "source": [
    "np.sqrt(metrics.mean_squared_error(y_test, y_pred))"
   ]
  },
  {
   "cell_type": "markdown",
   "metadata": {},
   "source": [
    "Let's define our test split regresson in a formula so we can just call the function to provide us with the results"
   ]
  },
  {
   "cell_type": "code",
   "execution_count": 57,
   "metadata": {},
   "outputs": [],
   "source": [
    "def linear_reg_split(X, y, split_ratio):\n",
    "    X_train, X_test, y_train, y_test = train_test_split(X, y, test_size=split_ratio, random_state=0)\n",
    "    lin_reg = LinearRegression()\n",
    "    lin_reg.fit(X_train, y_train)\n",
    "    y_pred = lin_reg.predict(X_test)\n",
    "    return  y_test, y_pred\n",
    "\n",
    "def r2(y_test, y_pred):\n",
    "    r2 = r2_score(y_test, y_pred)\n",
    "    return r2\n",
    "\n",
    "def rmse(y_test, y_pred):\n",
    "    mse = np.sqrt(metrics.mean_squared_error(y_test, y_pred))\n",
    "    return mse"
   ]
  },
  {
   "cell_type": "markdown",
   "metadata": {},
   "source": [
    "Test of the formula below"
   ]
  },
  {
   "cell_type": "code",
   "execution_count": 23,
   "metadata": {},
   "outputs": [],
   "source": [
    "X = wind_spd_pwr.iloc[:, :1].values\n",
    "y = wind_spd_pwr.iloc[:, 1:].values"
   ]
  },
  {
   "cell_type": "code",
   "execution_count": 58,
   "metadata": {},
   "outputs": [],
   "source": [
    "y_test, y_pred = linear_reg_split(X,y, 0.2)"
   ]
  },
  {
   "cell_type": "markdown",
   "metadata": {},
   "source": [
    "### Cleaning up the dataset\n",
    "\n",
    "As I mentione dabove the dataset appears to have some undesirable results included, in both Fig.1 & Fig.2 you can see a few point on the plot at the (x= n, y= 0) points which I deem to affect the accuracy of the overall prediction, let's remove these and see if we can improve our evaluation metrics. From researching wind turbine power output in relation to wind speed, I found that often wind turbines produce power in a specfic range of wind speeds:\n",
    "\n",
    "       \"6. How strong does the wind have to blow for the wind turbines to work?\n",
    "    Wind turbines typically start operating at wind speeds around Beaufort Force 3 (which is around 3-5 metres per second (m/s), or 8-12 miles per hour (mph). Turbines reach maximum power output at Beaufort 5 (around 11-14 m/s or 25-30 mph). At very high wind speeds, i.e. Beaufort Storm Force 10 winds, (around 24 m/s or 55 mph) or greater the wind turbines shut down to prevent excessive wear and tear. Since winds of this strength occur only for a handful of hours per year, very little energy is lost in high wind periods.\"\n",
    "\n",
    "https://enerpower.ie/portfolio/wind-turbine-faq-ireland/\n",
    "\n",
    "We will need to be mindful of this when creating the final output of the predictor, for now we will remove all rows which ahve zero vlaues. We will need to factor these thresholds into the our predictor"
   ]
  },
  {
   "cell_type": "code",
   "execution_count": 25,
   "metadata": {},
   "outputs": [],
   "source": [
    "#https://stackoverflow.com/questions/22649693/drop-rows-with-all-zeros-in-pandas-data-frame\n",
    "\n",
    "clean_df = wind_spd_pwr.loc[(wind_spd_pwr != 0).all(1)]"
   ]
  },
  {
   "cell_type": "markdown",
   "metadata": {},
   "source": [
    "How many zero values were influencing the results above?"
   ]
  },
  {
   "cell_type": "code",
   "execution_count": 26,
   "metadata": {
    "scrolled": false
   },
   "outputs": [
    {
     "data": {
      "text/plain": [
       "49"
      ]
     },
     "execution_count": 26,
     "metadata": {},
     "output_type": "execute_result"
    }
   ],
   "source": [
    "wind_spd_pwr.shape[0] - clean_df.shape[0]"
   ]
  },
  {
   "cell_type": "markdown",
   "metadata": {},
   "source": [
    "About one in ten results were zero vals, but we know that our first 5 and last 10 rows contain valid zeros vals. Below we will grpah the newly created 'clean_df', so there were 34 zero-values cleared from the dataset. Let's see if we have imporoved the rvalue of the dataset:"
   ]
  },
  {
   "cell_type": "code",
   "execution_count": 27,
   "metadata": {
    "scrolled": true
   },
   "outputs": [
    {
     "data": {
      "text/plain": [
       "0.9478835830699073"
      ]
     },
     "execution_count": 27,
     "metadata": {},
     "output_type": "execute_result"
    }
   ],
   "source": [
    "slope, intercept, rvalue, pvalue, std = stats.linregress(clean_df)\n",
    "rvalue"
   ]
  },
  {
   "cell_type": "markdown",
   "metadata": {},
   "source": [
    "This is a fairly substantial improvement."
   ]
  },
  {
   "cell_type": "code",
   "execution_count": 28,
   "metadata": {},
   "outputs": [
    {
     "data": {
      "image/png": "[encoded data removed]",
      "text/plain": [
       "<Figure size 432x288 with 1 Axes>"
      ]
     },
     "metadata": {
      "needs_background": "light"
     },
     "output_type": "display_data"
    }
   ],
   "source": [
    "ax = sns.regplot(x = clean_df['speed'], y = clean_df['power'], data = clean_df, x_ci = False, line_kws={\"color\": \"red\"})\n",
    "plt.title(\"Fig.3 - Speed vs Power Generated\")\n",
    "plt.show();"
   ]
  },
  {
   "cell_type": "markdown",
   "metadata": {},
   "source": [
    "As above we will perofrm a liner regression on the dataset and evaluate how accurate the predictions we can make will be, firstly using a 0.20 test_split, and moving to a 0.10 test split to see if we can improve the accuracy."
   ]
  },
  {
   "cell_type": "code",
   "execution_count": 29,
   "metadata": {},
   "outputs": [],
   "source": [
    "X = clean_df.iloc[:, :1].values\n",
    "y = clean_df.iloc[:, 1:].values\n",
    "clean_df_y_test, clean_df_y_pred = linear_reg_split(X,y, 0.2)"
   ]
  },
  {
   "cell_type": "code",
   "execution_count": 30,
   "metadata": {},
   "outputs": [
    {
     "data": {
      "text/plain": [
       "0.8761936527051459"
      ]
     },
     "execution_count": 30,
     "metadata": {},
     "output_type": "execute_result"
    }
   ],
   "source": [
    "r2(clean_df_y_test, clean_df_y_pred)"
   ]
  },
  {
   "cell_type": "code",
   "execution_count": 31,
   "metadata": {},
   "outputs": [
    {
     "data": {
      "text/plain": [
       "13.969373738027821"
      ]
     },
     "execution_count": 31,
     "metadata": {},
     "output_type": "execute_result"
    }
   ],
   "source": [
    "rmse(clean_df_y_test, clean_df_y_pred)"
   ]
  },
  {
   "cell_type": "markdown",
   "metadata": {},
   "source": [
    "### Predicting Power Output values"
   ]
  },
  {
   "cell_type": "markdown",
   "metadata": {},
   "source": [
    "I am going to apply a linear regression model to the whole clean_df dataset and make predictions off the back of this model. However tese predictions will not be very accurate for wind speeds roughly between 5m/s to 11 m/s & 15m/s to 18m/s given the loose fit a straight line has on the data provided."
   ]
  },
  {
   "cell_type": "code",
   "execution_count": 32,
   "metadata": {},
   "outputs": [],
   "source": [
    "X = clean_df.iloc[:, :1].values\n",
    "y = clean_df.iloc[:, 1:].values"
   ]
  },
  {
   "cell_type": "code",
   "execution_count": 33,
   "metadata": {
    "scrolled": false
   },
   "outputs": [
    {
     "data": {
      "text/plain": [
       "LinearRegression(copy_X=True, fit_intercept=True, n_jobs=None, normalize=False)"
      ]
     },
     "execution_count": 33,
     "metadata": {},
     "output_type": "execute_result"
    }
   ],
   "source": [
    "lin_reg = LinearRegression()\n",
    "lin_reg.fit(X, y)"
   ]
  },
  {
   "cell_type": "code",
   "execution_count": 34,
   "metadata": {},
   "outputs": [
    {
     "data": {
      "text/plain": [
       "0.8984832870534454"
      ]
     },
     "execution_count": 34,
     "metadata": {},
     "output_type": "execute_result"
    }
   ],
   "source": [
    "lin_reg.score(X, y)"
   ]
  },
  {
   "cell_type": "markdown",
   "metadata": {},
   "source": [
    "Now we can request a user's input, reshape it to to enure the same shape is input as was passed through fit() and our model will predict the power output value of the input."
   ]
  },
  {
   "cell_type": "code",
   "execution_count": 35,
   "metadata": {},
   "outputs": [
    {
     "data": {
      "text/plain": [
       "array([[15]])"
      ]
     },
     "execution_count": 35,
     "metadata": {},
     "output_type": "execute_result"
    }
   ],
   "source": [
    "speed_input = np.array(15).reshape(-1, 1)\n",
    "speed_input"
   ]
  },
  {
   "cell_type": "code",
   "execution_count": 36,
   "metadata": {
    "scrolled": true
   },
   "outputs": [
    {
     "data": {
      "text/plain": [
       "array([[64.44473211]])"
      ]
     },
     "execution_count": 36,
     "metadata": {},
     "output_type": "execute_result"
    }
   ],
   "source": [
    "y_pred = lin_reg.predict(speed_input)\n",
    "y_pred"
   ]
  },
  {
   "cell_type": "markdown",
   "metadata": {},
   "source": [
    "Tidying up the function into something that can be run idependently."
   ]
  },
  {
   "cell_type": "code",
   "execution_count": 62,
   "metadata": {},
   "outputs": [],
   "source": [
    "def linear_reg_predict(speed_input):\n",
    "    \n",
    "    if speed_input < 0.325:\n",
    "        return 0\n",
    "\n",
    "    if speed_input > 24.498:\n",
    "        return 0\n",
    "    \n",
    "    else:\n",
    "        from sklearn.linear_model import LinearRegression\n",
    "    \n",
    "        wind_spd_pwr = pd.read_csv(\"powerproduction.csv\")\n",
    "    \n",
    "        clean_df = wind_spd_pwr.loc[(wind_spd_pwr != 0).all(1)]\n",
    "    \n",
    "        X = clean_df.iloc[:, :1].values\n",
    "        y = clean_df.iloc[:, 1:].values\n",
    "    \n",
    "        lin_reg = LinearRegression()\n",
    "        lin_reg.fit(X, y)\n",
    "        reshape_sp_input = np.array(speed_input).reshape(-1, 1)\n",
    "        power_output = lin_reg.predict(reshape_sp_input)\n",
    "        return  power_output"
   ]
  },
  {
   "cell_type": "code",
   "execution_count": 64,
   "metadata": {},
   "outputs": [
    {
     "data": {
      "text/plain": [
       "array([[103.77652698]])"
      ]
     },
     "execution_count": 64,
     "metadata": {},
     "output_type": "execute_result"
    }
   ],
   "source": [
    "linear_reg_predict(22)"
   ]
  },
  {
   "cell_type": "code",
   "execution_count": null,
   "metadata": {},
   "outputs": [],
   "source": []
  },
  {
   "cell_type": "markdown",
   "metadata": {},
   "source": [
    "### Different Types of Regression\n",
    "\n",
    "At first when I was researching what other types of regression oculd fit the dataset, a logistic regression seemed to fit given the shape of the plotted datapoints. Upon reading further it was evident that this eas not the case. Upon further investigation, I foudnt hat a polynomical regression may fir the dataset to a better degree than a linear fit, below is an analysis of what the r2 score and RMSE will be after fitting a polynomial regreession to the powerproduction dataset, with zero values removed (clean_df).\n",
    "\n",
    "https://www.w3schools.com/python/python_ml_polynomial_regression.asp\n",
    "\n",
    "https://towardsdatascience.com/machine-learning-polynomial-regression-with-python-5328e4e8a386"
   ]
  },
  {
   "cell_type": "code",
   "execution_count": 39,
   "metadata": {},
   "outputs": [],
   "source": [
    "X = clean_df.iloc[:, :1].values\n",
    "y = clean_df.iloc[:, 1:].values"
   ]
  },
  {
   "cell_type": "code",
   "execution_count": 40,
   "metadata": {},
   "outputs": [
    {
     "data": {
      "text/plain": [
       "LinearRegression(copy_X=True, fit_intercept=True, n_jobs=None, normalize=False)"
      ]
     },
     "execution_count": 40,
     "metadata": {},
     "output_type": "execute_result"
    }
   ],
   "source": [
    "from sklearn.preprocessing import PolynomialFeatures\n",
    "poly_reg = PolynomialFeatures(degree=4)\n",
    "X_poly = poly_reg.fit_transform(X)\n",
    "pol_reg = LinearRegression()\n",
    "pol_reg.fit(X_poly, y)"
   ]
  },
  {
   "cell_type": "code",
   "execution_count": 42,
   "metadata": {
    "scrolled": true
   },
   "outputs": [
    {
     "data": {
      "image/png": "[encoded data removed]",
      "text/plain": [
       "<Figure size 432x288 with 1 Axes>"
      ]
     },
     "metadata": {
      "needs_background": "light"
     },
     "output_type": "display_data"
    }
   ],
   "source": [
    "plt.scatter(X, y, color='blue')\n",
    "plt.plot(X, pol_reg.predict(poly_reg.fit_transform(X)), color='red')\n",
    "plt.title(\"Fig.4 - Speed vs Power Generated - Polynomial reg\");"
   ]
  },
  {
   "cell_type": "markdown",
   "metadata": {},
   "source": []
  },
  {
   "cell_type": "code",
   "execution_count": 43,
   "metadata": {},
   "outputs": [
    {
     "data": {
      "image/png": "[encoded data removed]",
      "text/plain": [
       "<Figure size 432x288 with 1 Axes>"
      ]
     },
     "metadata": {
      "needs_background": "light"
     },
     "output_type": "display_data"
    }
   ],
   "source": [
    "ax = sns.regplot(x = clean_df['speed'], y = clean_df['power'], data = clean_df, x_ci = False, line_kws={\"color\": \"green\"})\n",
    "plt.plot(X, pol_reg.predict(poly_reg.fit_transform(X)), color='blue')\n",
    "plt.title(\"Fig.5 - Speed vs Power, Linear vs Polynomial\")\n",
    "plt.show();"
   ]
  },
  {
   "cell_type": "markdown",
   "metadata": {},
   "source": [
    "### Conclusions \n",
    "\n",
    "The objectives of this project were to:\n",
    "\n",
    "##### Perform and explain a simple linear regression on the powerporduction dataset provided.\n",
    "\n",
    "   I believe fitting the line was stright forward and did not need much further work, I do not know if there was a better way to clean up the dataset, but thought if statements regarding the thresholds was the simplest way to work it.\n",
    "\n",
    "##### Accurately predict wind tuerbine power output from windspeed values using the dataset.\n",
    "   \n",
    "   The prediction model is not accurate for a linear regression, espoecially around the areas where the line cuts through the whitespace on the graphs. I could not quite work the polynomial regression model into a predictor, burt the model fit was perfect for the dataset provided, it appears that the dataset was produced from a polynomial function."
   ]
  }
 ],
 "metadata": {
  "kernelspec": {
   "display_name": "Python 3",
   "language": "python",
   "name": "python3"
  },
  "language_info": {
   "codemirror_mode": {
    "name": "ipython",
    "version": 3
   },
   "file_extension": ".py",
   "mimetype": "text/x-python",
   "name": "python",
   "nbconvert_exporter": "python",
   "pygments_lexer": "ipython3",
   "version": "3.7.4"
  }
 },
 "nbformat": 4,
 "nbformat_minor": 2
}
